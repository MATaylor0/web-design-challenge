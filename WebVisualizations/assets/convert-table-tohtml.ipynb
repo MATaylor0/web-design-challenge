{
 "cells": [
  {
   "cell_type": "code",
   "execution_count": 1,
   "metadata": {},
   "outputs": [],
   "source": [
    "# Exporting a pandas dataframe to a HTML file to be displayed on a webpage\n",
    "import pandas as pd\n",
    "\n",
    "path = \"../Resources/city_data.csv\"\n",
    "\n",
    "city_df = pd.read_csv(path)\n",
    "\n",
    "output = \"../Resources/city-data.html\"\n",
    "\n",
    "city_df.to_html(output)"
   ]
  }
 ],
 "metadata": {
  "kernelspec": {
   "display_name": "Python 3",
   "language": "python",
   "name": "python3"
  },
  "language_info": {
   "codemirror_mode": {
    "name": "ipython",
    "version": 3
   },
   "file_extension": ".py",
   "mimetype": "text/x-python",
   "name": "python",
   "nbconvert_exporter": "python",
   "pygments_lexer": "ipython3",
   "version": "3.8.3"
  }
 },
 "nbformat": 4,
 "nbformat_minor": 4
}
